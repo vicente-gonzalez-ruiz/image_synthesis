{
 "cells": [
  {
   "cell_type": "code",
   "execution_count": null,
   "id": "e11c33f7-8b0f-4257-9dc5-e7a1ed64aef3",
   "metadata": {},
   "outputs": [],
   "source": [
    "import cv2\n",
    "import numpy as np\n",
    "from skimage import io as skimage_io\n",
    "import matplotlib.pyplot as plt"
   ]
  },
  {
   "cell_type": "code",
   "execution_count": null,
   "id": "9a29c27d-8eed-4c4e-bce0-22b69062dc9e",
   "metadata": {},
   "outputs": [],
   "source": [
    "img = skimage_io.imread(\"http://www.hpca.ual.es/~vruiz/images/barb.png\")"
   ]
  },
  {
   "cell_type": "code",
   "execution_count": null,
   "id": "714d26d6-9994-48ab-bf4b-f9090fa23ef0",
   "metadata": {},
   "outputs": [],
   "source": [
    "plt.imshow(img, cmap=\"gray\")"
   ]
  },
  {
   "cell_type": "code",
   "execution_count": null,
   "id": "40dce4a2-f193-4089-a391-d94bc6cc4980",
   "metadata": {},
   "outputs": [],
   "source": [
    "mean = 0\n",
    "var = 1000\n",
    "sigma = 10 #var**0.5\n",
    "noise = np.random.normal(mean, sigma, img.shape).reshape(img.shape)\n",
    "noisy = np.clip(a=img.astype(np.float32) + noise, a_min=0, a_max=255).astype(np.uint8)\n",
    "#noisy = np.clip(a=noise, a_min=0, a_max=255).astype(np.uint8)"
   ]
  },
  {
   "cell_type": "code",
   "execution_count": null,
   "id": "e629706e-cf98-4a35-9f7e-bdbd38ab874d",
   "metadata": {},
   "outputs": [],
   "source": [
    "plt.imshow(noisy, cmap=\"gray\")"
   ]
  },
  {
   "cell_type": "code",
   "execution_count": null,
   "id": "752c19c5-855a-4d8f-9e73-ac592059df80",
   "metadata": {},
   "outputs": [],
   "source": [
    "flow = cv2.calcOpticalFlowFarneback(img, noisy, None, 0.5, 3, 15, 3, 5, 1.2, 0)"
   ]
  },
  {
   "cell_type": "code",
   "execution_count": null,
   "id": "cec60353-f765-4133-83f0-2e765dcc52ff",
   "metadata": {},
   "outputs": [],
   "source": [
    "def project(image,\n",
    "            flow,\n",
    "            interpolation_mode=cv2.INTER_LINEAR,\n",
    "            extension_mode=cv2.BORDER_REPLICATE):    \n",
    "    height, width = flow.shape[:2]\n",
    "    map_x = np.tile(np.arange(width), (height, 1))\n",
    "    map_y = np.swapaxes(np.tile(np.arange(height), (width, 1)), 0, 1)\n",
    "    map_xy = (flow + np.dstack((map_x, map_y))).astype('float32')\n",
    "    projection = cv2.remap(\n",
    "        image,\n",
    "        map_xy,\n",
    "        None,\n",
    "        interpolation=interpolation_mode,\n",
    "        borderMode=extension_mode)\n",
    "    \n",
    "    return projection"
   ]
  },
  {
   "cell_type": "code",
   "execution_count": null,
   "id": "ee745d02-3304-437e-9ce8-70425846f817",
   "metadata": {},
   "outputs": [],
   "source": [
    "randomized = project(img, flow)"
   ]
  },
  {
   "cell_type": "code",
   "execution_count": null,
   "id": "764cb1a8-de9b-473f-8dff-8534fb6e81d0",
   "metadata": {},
   "outputs": [],
   "source": [
    "plt.imshow(randomized, cmap=\"gray\")"
   ]
  },
  {
   "cell_type": "code",
   "execution_count": null,
   "id": "7f40840c-a038-42cb-93f5-3a4b5c408523",
   "metadata": {},
   "outputs": [],
   "source": [
    "plt.imshow(randomized, cmap=\"gray\")"
   ]
  },
  {
   "cell_type": "code",
   "execution_count": null,
   "id": "22b87787-cf37-4cbc-ab10-cec6810c1ac6",
   "metadata": {},
   "outputs": [],
   "source": [
    "plt.imshow(img - randomized + 128, cmap=\"gray\")"
   ]
  },
  {
   "cell_type": "code",
   "execution_count": null,
   "id": "091036ea-3d2c-48a1-8a7b-161cd2332be1",
   "metadata": {},
   "outputs": [],
   "source": []
  }
 ],
 "metadata": {
  "kernelspec": {
   "display_name": "Python 3 (ipykernel)",
   "language": "python",
   "name": "python3"
  },
  "language_info": {
   "codemirror_mode": {
    "name": "ipython",
    "version": 3
   },
   "file_extension": ".py",
   "mimetype": "text/x-python",
   "name": "python",
   "nbconvert_exporter": "python",
   "pygments_lexer": "ipython3",
   "version": "3.10.12"
  }
 },
 "nbformat": 4,
 "nbformat_minor": 5
}
